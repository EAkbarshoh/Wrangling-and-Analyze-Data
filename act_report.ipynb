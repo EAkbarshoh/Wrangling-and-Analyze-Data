{
 "cells": [
  {
   "cell_type": "markdown",
   "metadata": {},
   "source": [
    "# Act_report"
   ]
  },
  {
   "cell_type": "markdown",
   "metadata": {},
   "source": [
    "## INTRODUCTION\n",
    "During this project, I analysed data,which is  gathered from Twitter account called `WeRateDogs`,assessed,cleaned.\n",
    "\n",
    "First,In this Twitter account owner upload their dog's funny images with comments.Then people rate them,denominator of rating is 10 and people should rate them from 1 to 10 ,but people most people rate them higher than 10.\n",
    "\n",
    "This Twitter account's followers are  more than 6 million and they have over 6000 tweets.But in this analysis,I analyzed 1500 + tweets.I answered following questions:\n",
    "\n",
    "How do most followers connect to twitter account (Twitter for iPhone,Twitter Web Client,TweetDeck) ?,What is the most common type (breed) of dog ?,Are there any correlation between favorites_count and retweet_count?"
   ]
  },
  {
   "cell_type": "markdown",
   "metadata": {},
   "source": [
    "## MOST COMMON CONNECTION METHOD\n",
    "Mostly people use their Iphone to connect to account and post their dog's photo.Below we can see pie chart which illustrates proprotion of each method:\n",
    "\n",
    "![Pie chart](pics/pie.png)"
   ]
  },
  {
   "cell_type": "markdown",
   "metadata": {},
   "source": [
    "## THE MOST COMMON DOG BREED\n",
    "The most common dog's breed is golden_retriever (177 occurence) and in second place Labrador retriever.Here given bar chart describing top 10 breeds and picture of top 3 breeds:\n",
    "\n",
    "| ![bar.png](pics/bar.png) |\n",
    "|:--:|\n",
    "| *Top 10 common dog breeds* |\n",
    "\n",
    "| ![top_3.png](pics/top_3.png) |\n",
    "|:--:|\n",
    "| *Photo of top 3 common dog breeds* |\n",
    "\n",
    "PS:This doesn’t mean that golden_retreiver is the most common dog in the world because there  may be several results to this case.For example,some owners of other breed of dogs may not want to \"show off\" their dog in internet ,or another reason is ,which might be more likely,that it may be easy for neural network to indentify particular breeds. "
   ]
  },
  {
   "cell_type": "markdown",
   "metadata": {},
   "source": [
    "## Correlation\n",
    "We can see that there is strong positive correlation between retweet_count and favorites.This means that if tweet has more favorites ,it is retweed more.Below we can see scatter plot:\n",
    "\n",
    "| ![scatter.png](pics/scatter.png) |\n",
    "|:--:|\n",
    "| *Retweet_count and favorite_count* |"
   ]
  },
  {
   "cell_type": "markdown",
   "metadata": {},
   "source": [
    "## Effect of dog's stage to favorites\n",
    "In the visualization below,we can see that puppo(It is a teenager dog :)) is dog stage which has most favorites:\n",
    "\n",
    "| ![bar2.png](pics/bar2.png) |\n",
    "|:--:|\n",
    "| *Retweet_count and favorite_count* |\n",
    "\n",
    "Below we can see photo of som Puppos:\n",
    "\n",
    "| ![puppos.png](pics/puppos.png) |\n",
    "|:--:|\n",
    "| *Retweet_count and favorite_count* |"
   ]
  },
  {
   "cell_type": "markdown",
   "metadata": {},
   "source": [
    "I used [stackoverflow](https://stackoverflow.com/questions/19331362/using-an-image-caption-in-markdown-jekyll) to put captions to images"
   ]
  }
 ],
 "metadata": {
  "kernelspec": {
   "display_name": "Python 3 (ipykernel)",
   "language": "python",
   "name": "python3"
  },
  "language_info": {
   "codemirror_mode": {
    "name": "ipython",
    "version": 3
   },
   "file_extension": ".py",
   "mimetype": "text/x-python",
   "name": "python",
   "nbconvert_exporter": "python",
   "pygments_lexer": "ipython3",
   "version": "3.8.8"
  }
 },
 "nbformat": 4,
 "nbformat_minor": 2
}
